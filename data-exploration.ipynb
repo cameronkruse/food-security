{
 "cells": [
  {
   "cell_type": "code",
   "execution_count": 9,
   "metadata": {},
   "outputs": [],
   "source": [
    "import numpy as np\n",
    "import pandas as pd\n",
    "import geopandas as gpd\n",
    "import streamlit as st\n",
    "from requests.auth import HTTPBasicAuth\n",
    "import requests"
   ]
  },
  {
   "cell_type": "code",
   "execution_count": 17,
   "metadata": {},
   "outputs": [
    {
     "data": {
      "text/plain": [
       "'\"Bad API Key\"'"
      ]
     },
     "execution_count": 17,
     "metadata": {},
     "output_type": "execute_result"
    }
   ],
   "source": [
    "url = 'https://apps.fas.usda.gov/OpenData/api/esr/regions'\n",
    "headers = {'Accept': 'application/json'}\n",
    "auth = HTTPBasicAuth('API_KEY:', 'aefd68b9-cfdc-4c9e-a800-b457ff5adade')\n",
    "# files = {'file': open('filename', 'rb')}\n",
    "\n",
    "req = requests.get(url, headers=headers, auth=auth)\n",
    "req.text"
   ]
  },
  {
   "cell_type": "code",
   "execution_count": null,
   "metadata": {},
   "outputs": [],
   "source": []
  },
  {
   "cell_type": "code",
   "execution_count": 18,
   "metadata": {},
   "outputs": [],
   "source": [
    "headers_dict = {\"API_KEY\": \"aefd68b9-cfdc-4c9e-a800-b457ff5adade\"}\n",
    "URL = \"https://apps.fas.usda.gov/OpenData/api/esr/regions\"\n",
    "wData = requests.get(url=URL, headers=headers_dict)"
   ]
  },
  {
   "cell_type": "code",
   "execution_count": 19,
   "metadata": {},
   "outputs": [
    {
     "data": {
      "text/plain": [
       "'[{\"regionId\":1,\"regionName\":\"EUROPEAN UNION - 27           \"},{\"regionId\":2,\"regionName\":\"OTHER EUROPE                  \"},{\"regionId\":3,\"regionName\":\"EASTERN EUROPE                \"},{\"regionId\":4,\"regionName\":\"FORMER SOVIET UNION-12        \"},{\"regionId\":5,\"regionName\":\"JAPAN                         \"},{\"regionId\":6,\"regionName\":\"TAIWAN                        \"},{\"regionId\":7,\"regionName\":\"CHINA                         \"},{\"regionId\":8,\"regionName\":\"INDIA                         \"},{\"regionId\":9,\"regionName\":\"OTHER ASIA AND OCEANIA        \"},{\"regionId\":10,\"regionName\":\"AFRICA                        \"},{\"regionId\":11,\"regionName\":\"WESTERN HEMISPHERE            \"},{\"regionId\":99,\"regionName\":\"UNKNOWN                       \"}]'"
      ]
     },
     "execution_count": 19,
     "metadata": {},
     "output_type": "execute_result"
    }
   ],
   "source": [
    "wData.text"
   ]
  },
  {
   "cell_type": "code",
   "execution_count": 20,
   "metadata": {},
   "outputs": [
    {
     "data": {
      "text/html": [
       "<div>\n",
       "<style scoped>\n",
       "    .dataframe tbody tr th:only-of-type {\n",
       "        vertical-align: middle;\n",
       "    }\n",
       "\n",
       "    .dataframe tbody tr th {\n",
       "        vertical-align: top;\n",
       "    }\n",
       "\n",
       "    .dataframe thead th {\n",
       "        text-align: right;\n",
       "    }\n",
       "</style>\n",
       "<table border=\"1\" class=\"dataframe\">\n",
       "  <thead>\n",
       "    <tr style=\"text-align: right;\">\n",
       "      <th></th>\n",
       "      <th>regionId</th>\n",
       "      <th>regionName</th>\n",
       "    </tr>\n",
       "  </thead>\n",
       "  <tbody>\n",
       "    <tr>\n",
       "      <th>0</th>\n",
       "      <td>1</td>\n",
       "      <td>EUROPEAN UNION - 27</td>\n",
       "    </tr>\n",
       "    <tr>\n",
       "      <th>1</th>\n",
       "      <td>2</td>\n",
       "      <td>OTHER EUROPE</td>\n",
       "    </tr>\n",
       "    <tr>\n",
       "      <th>2</th>\n",
       "      <td>3</td>\n",
       "      <td>EASTERN EUROPE</td>\n",
       "    </tr>\n",
       "    <tr>\n",
       "      <th>3</th>\n",
       "      <td>4</td>\n",
       "      <td>FORMER SOVIET UNION-12</td>\n",
       "    </tr>\n",
       "    <tr>\n",
       "      <th>4</th>\n",
       "      <td>5</td>\n",
       "      <td>JAPAN</td>\n",
       "    </tr>\n",
       "    <tr>\n",
       "      <th>5</th>\n",
       "      <td>6</td>\n",
       "      <td>TAIWAN</td>\n",
       "    </tr>\n",
       "    <tr>\n",
       "      <th>6</th>\n",
       "      <td>7</td>\n",
       "      <td>CHINA</td>\n",
       "    </tr>\n",
       "    <tr>\n",
       "      <th>7</th>\n",
       "      <td>8</td>\n",
       "      <td>INDIA</td>\n",
       "    </tr>\n",
       "    <tr>\n",
       "      <th>8</th>\n",
       "      <td>9</td>\n",
       "      <td>OTHER ASIA AND OCEANIA</td>\n",
       "    </tr>\n",
       "    <tr>\n",
       "      <th>9</th>\n",
       "      <td>10</td>\n",
       "      <td>AFRICA</td>\n",
       "    </tr>\n",
       "    <tr>\n",
       "      <th>10</th>\n",
       "      <td>11</td>\n",
       "      <td>WESTERN HEMISPHERE</td>\n",
       "    </tr>\n",
       "    <tr>\n",
       "      <th>11</th>\n",
       "      <td>99</td>\n",
       "      <td>UNKNOWN</td>\n",
       "    </tr>\n",
       "  </tbody>\n",
       "</table>\n",
       "</div>"
      ],
      "text/plain": [
       "    regionId                      regionName\n",
       "0          1  EUROPEAN UNION - 27           \n",
       "1          2  OTHER EUROPE                  \n",
       "2          3  EASTERN EUROPE                \n",
       "3          4  FORMER SOVIET UNION-12        \n",
       "4          5  JAPAN                         \n",
       "5          6  TAIWAN                        \n",
       "6          7  CHINA                         \n",
       "7          8  INDIA                         \n",
       "8          9  OTHER ASIA AND OCEANIA        \n",
       "9         10  AFRICA                        \n",
       "10        11  WESTERN HEMISPHERE            \n",
       "11        99  UNKNOWN                       "
      ]
     },
     "execution_count": 20,
     "metadata": {},
     "output_type": "execute_result"
    }
   ],
   "source": [
    "pd.read_json(wData.text)"
   ]
  },
  {
   "cell_type": "code",
   "execution_count": 23,
   "metadata": {},
   "outputs": [],
   "source": []
  },
  {
   "cell_type": "code",
   "execution_count": 24,
   "metadata": {},
   "outputs": [],
   "source": []
  },
  {
   "cell_type": "code",
   "execution_count": 32,
   "metadata": {},
   "outputs": [
    {
     "ename": "SyntaxError",
     "evalue": "'return' outside function (400053902.py, line 7)",
     "output_type": "error",
     "traceback": [
      "\u001b[0;36m  Input \u001b[0;32mIn [32]\u001b[0;36m\u001b[0m\n\u001b[0;31m    return (u)\u001b[0m\n\u001b[0m    ^\u001b[0m\n\u001b[0;31mSyntaxError\u001b[0m\u001b[0;31m:\u001b[0m 'return' outside function\n"
     ]
    }
   ],
   "source": [
    "# Endpoints\n",
    "regions = \"https://apps.fas.usda.gov/OpenData/api/esr/regions\"\n",
    "countries = \"https://apps.fas.usda.gov/OpenData/api/esr/countries\"\n",
    "commodities = \"https://apps.fas.usda.gov/OpenData/api/esr/commodities\"\n",
    "unitsofmeasure = \"https://apps.fas.usda.gov/OpenData/api/esr/commodities\"\n",
    "wheat = \"https://apps.fas.usda.gov/OpenData/exports/commodityCode/101/allCountries/marketYear/2021\"\n",
    "endpointlist = [regions, countries, commodities, unitsofmeasure, wheat]\n",
    "for u in endpointlist:\n",
    "    headers_dict = {\"API_KEY\": \"aefd68b9-cfdc-4c9e-a800-b457ff5adade\"}\n",
    "    URL = u\n",
    "    data = requests.get(url=URL, headers=headers_dict)\n",
    "    # create list of dictionaries.\n",
    "    u = pd.read_json(data.text)"
   ]
  },
  {
   "cell_type": "code",
   "execution_count": 28,
   "metadata": {},
   "outputs": [
    {
     "data": {
      "text/plain": [
       "'https://apps.fas.usda.gov/OpenData/api/esr/regions'"
      ]
     },
     "execution_count": 28,
     "metadata": {},
     "output_type": "execute_result"
    }
   ],
   "source": [
    "regions"
   ]
  },
  {
   "cell_type": "code",
   "execution_count": null,
   "metadata": {},
   "outputs": [],
   "source": [
    "# \"https://apps.fas.usda.gov/OpenData/exports/commodityCode/{commodityCode}/allCountries/marketYear/{marketYear}\"\n",
    "# \"https://apps.fas.usda.gov/OpenData/exports/commodityCode/{commodityCode}/countryCode/{countryCode}/marketYear/{marketYear}\""
   ]
  },
  {
   "cell_type": "code",
   "execution_count": null,
   "metadata": {},
   "outputs": [],
   "source": [
    "\"https://apps.fas.usda.gov/OpenData/exports/commodityCode/101/allCountries/marketYear/2021\""
   ]
  },
  {
   "cell_type": "markdown",
   "metadata": {},
   "source": [
    "ideas for where this should go next:\n",
    "- create an interface to visualize per comodity code (emoji?) per country per year\n",
    "- perhaps multiple visuzalizations with different pivots on the data (e.g. country, year, comodity)\n",
    "- aggregate dashboard view showing all data\n",
    "- map view of all this\n",
    "- "
   ]
  },
  {
   "cell_type": "markdown",
   "metadata": {},
   "source": []
  }
 ],
 "metadata": {
  "kernelspec": {
   "display_name": "Python 3.10.4 ('food-security')",
   "language": "python",
   "name": "python3"
  },
  "language_info": {
   "codemirror_mode": {
    "name": "ipython",
    "version": 3
   },
   "file_extension": ".py",
   "mimetype": "text/x-python",
   "name": "python",
   "nbconvert_exporter": "python",
   "pygments_lexer": "ipython3",
   "version": "3.10.4"
  },
  "orig_nbformat": 4,
  "vscode": {
   "interpreter": {
    "hash": "80d14d1fb741077bd42a5b4187c7db14fd15f042564cfa5e7db6942dfa41f05d"
   }
  }
 },
 "nbformat": 4,
 "nbformat_minor": 2
}
